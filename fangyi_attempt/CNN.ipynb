{
 "cells": [
  {
   "cell_type": "code",
   "execution_count": 12,
   "id": "475c489d",
   "metadata": {},
   "outputs": [],
   "source": [
    "from keras.preprocessing import sequence\n",
    "from keras.preprocessing import text\n",
    "import numpy as np\n",
    "import pandas as pd\n",
    "from keras.models import Sequential\n",
    "from keras.layers import Dense, Dropout, Activation\n",
    "from keras.layers import Embedding, LSTM\n",
    "from keras.layers import Conv1D, Flatten, MaxPooling1D\n",
    "from tensorflow.keras.callbacks import Callback\n",
    "import tensorflow as tf"
   ]
  },
  {
   "cell_type": "code",
   "execution_count": 28,
   "id": "2ad13062",
   "metadata": {},
   "outputs": [],
   "source": [
    "VOCAB_SIZE = 1000\n",
    "MAXLEN = 1000\n",
    "EMBEDDING_DIMS = 50\n",
    "FILTERS = 32\n",
    "KERNEL_SIZE = 3\n",
    "HIDDEN_DIMS = 250\n",
    "BATCH_SIZE = 10000\n",
    "EPOCHS = 20\n",
    "NUM_OUTPUT_NODES = 4"
   ]
  },
  {
   "cell_type": "code",
   "execution_count": 25,
   "id": "3170e216",
   "metadata": {},
   "outputs": [],
   "source": [
    "train = pd.read_csv('/Users/lifangyi/Downloads/raw_data/fulltrain.csv', header=None, names=[\"label\",\"news\"])\n",
    "test = pd.read_csv('/Users/lifangyi/Downloads/raw_data/balancedtest.csv', header=None, names=[\"label\",\"news\"])\n",
    "X_train = train[\"news\"]\n",
    "y_train = train[\"label\"]\n",
    "X_test = test[\"news\"]\n",
    "y_test = test[\"label\"]"
   ]
  },
  {
   "cell_type": "code",
   "execution_count": 26,
   "id": "b4cdff11",
   "metadata": {},
   "outputs": [],
   "source": [
    "import tensorflow as tf\n",
    "tokenizer = text.Tokenizer(num_words=VOCAB_SIZE)\n",
    "tokenizer.fit_on_texts(X_train)\n",
    "X_train = tokenizer.texts_to_matrix(X_train)\n",
    "X_test = tokenizer.texts_to_matrix(X_test)\n",
    "\n",
    "X_train = sequence.pad_sequences(X_train,maxlen=MAXLEN)\n",
    "X_test = sequence.pad_sequences(X_test,maxlen=MAXLEN)\n",
    "\n",
    "y_train = tf.one_hot(y_train - 1, 4)\n",
    "y_test = tf.one_hot(y_test - 1, 4)"
   ]
  },
  {
   "cell_type": "code",
   "execution_count": 29,
   "id": "0789bec5",
   "metadata": {},
   "outputs": [
    {
     "name": "stdout",
     "output_type": "stream",
     "text": [
      "Epoch 1/20\n",
      "5/5 [==============================] - 26s 5s/step - loss: 1.3407 - accuracy: 0.3435 - val_loss: 1.3855 - val_accuracy: 0.2513\n",
      "Epoch 2/20\n",
      "5/5 [==============================] - 23s 5s/step - loss: 1.2783 - accuracy: 0.3638 - val_loss: 1.3822 - val_accuracy: 0.4097\n",
      "Epoch 3/20\n",
      "5/5 [==============================] - 24s 5s/step - loss: 1.2090 - accuracy: 0.4607 - val_loss: 1.3678 - val_accuracy: 0.4480\n",
      "Epoch 4/20\n",
      "5/5 [==============================] - 31s 6s/step - loss: 1.1458 - accuracy: 0.4688 - val_loss: 1.3593 - val_accuracy: 0.4497\n",
      "Epoch 5/20\n",
      "5/5 [==============================] - 24s 5s/step - loss: 1.0882 - accuracy: 0.4915 - val_loss: 1.3765 - val_accuracy: 0.4830\n",
      "Epoch 6/20\n",
      "5/5 [==============================] - 23s 5s/step - loss: 1.0084 - accuracy: 0.5415 - val_loss: 1.3890 - val_accuracy: 0.5097\n",
      "Epoch 7/20\n",
      "5/5 [==============================] - 24s 5s/step - loss: 0.8907 - accuracy: 0.6306 - val_loss: 1.3616 - val_accuracy: 0.5413\n",
      "Epoch 8/20\n",
      "5/5 [==============================] - 24s 5s/step - loss: 0.7751 - accuracy: 0.7196 - val_loss: 1.3311 - val_accuracy: 0.5437\n",
      "Epoch 9/20\n",
      "5/5 [==============================] - 23s 5s/step - loss: 0.6704 - accuracy: 0.7651 - val_loss: 1.2622 - val_accuracy: 0.5597\n",
      "Epoch 10/20\n",
      "5/5 [==============================] - 23s 5s/step - loss: 0.5980 - accuracy: 0.7887 - val_loss: 1.2227 - val_accuracy: 0.5700\n",
      "Epoch 11/20\n",
      "5/5 [==============================] - 23s 5s/step - loss: 0.5402 - accuracy: 0.8088 - val_loss: 1.2816 - val_accuracy: 0.5733\n",
      "Epoch 12/20\n",
      "5/5 [==============================] - 23s 5s/step - loss: 0.5023 - accuracy: 0.8214 - val_loss: 1.2874 - val_accuracy: 0.5747\n",
      "Epoch 13/20\n",
      "5/5 [==============================] - 23s 5s/step - loss: 0.4798 - accuracy: 0.8274 - val_loss: 1.3347 - val_accuracy: 0.5747\n",
      "Epoch 14/20\n",
      "5/5 [==============================] - 23s 5s/step - loss: 0.4487 - accuracy: 0.8397 - val_loss: 1.3916 - val_accuracy: 0.5690\n",
      "Epoch 15/20\n",
      "5/5 [==============================] - 23s 5s/step - loss: 0.4275 - accuracy: 0.8466 - val_loss: 1.4305 - val_accuracy: 0.5757\n",
      "Epoch 16/20\n",
      "5/5 [==============================] - 23s 5s/step - loss: 0.4137 - accuracy: 0.8511 - val_loss: 1.4445 - val_accuracy: 0.5793\n",
      "Epoch 17/20\n",
      "5/5 [==============================] - 23s 4s/step - loss: 0.3928 - accuracy: 0.8592 - val_loss: 1.4383 - val_accuracy: 0.5790\n",
      "Epoch 18/20\n",
      "5/5 [==============================] - 20s 4s/step - loss: 0.3778 - accuracy: 0.8654 - val_loss: 1.4259 - val_accuracy: 0.5830\n",
      "Epoch 19/20\n",
      "5/5 [==============================] - 20s 4s/step - loss: 0.3649 - accuracy: 0.8701 - val_loss: 1.4633 - val_accuracy: 0.5847\n",
      "Epoch 20/20\n",
      "5/5 [==============================] - 19s 4s/step - loss: 0.3550 - accuracy: 0.8736 - val_loss: 1.4893 - val_accuracy: 0.5857\n"
     ]
    },
    {
     "data": {
      "text/plain": [
       "<keras.callbacks.History at 0x7f919186f910>"
      ]
     },
     "execution_count": 29,
     "metadata": {},
     "output_type": "execute_result"
    }
   ],
   "source": [
    "model = Sequential()\n",
    "model.add(Embedding(VOCAB_SIZE,\n",
    "                   KERNEL_SIZE,\n",
    "                   input_length=MAXLEN))\n",
    "model.add(Dropout(0.5))\n",
    "model.add(Conv1D(FILTERS,\n",
    "                KERNEL_SIZE,\n",
    "                padding='valid',\n",
    "                activation='relu'))\n",
    "model.add(MaxPooling1D())\n",
    "model.add(Conv1D(FILTERS,\n",
    "                KERNEL_SIZE,\n",
    "                padding='valid',\n",
    "                activation='relu'))\n",
    "model.add(MaxPooling1D())\n",
    "model.add(Flatten())\n",
    "model.add(Dense(HIDDEN_DIMS, activation='relu'))\n",
    "model.add(Dropout(0.5))\n",
    "model.add(Dense(NUM_OUTPUT_NODES, activation='sigmoid'))\n",
    "\n",
    "model.compile(loss='categorical_crossentropy',\n",
    "             optimizer='adam',\n",
    "             metrics=['accuracy'])\n",
    "\n",
    "model.fit(X_train,y_train,\n",
    "         batch_size=BATCH_SIZE,\n",
    "         epochs=EPOCHS,\n",
    "         validation_data=(X_test,y_test),)"
   ]
  },
  {
   "cell_type": "code",
   "execution_count": null,
   "id": "1b8de0c1",
   "metadata": {},
   "outputs": [],
   "source": []
  }
 ],
 "metadata": {
  "kernelspec": {
   "display_name": "Python 3",
   "language": "python",
   "name": "python3"
  },
  "language_info": {
   "codemirror_mode": {
    "name": "ipython",
    "version": 3
   },
   "file_extension": ".py",
   "mimetype": "text/x-python",
   "name": "python",
   "nbconvert_exporter": "python",
   "pygments_lexer": "ipython3",
   "version": "3.8.8"
  }
 },
 "nbformat": 4,
 "nbformat_minor": 5
}
